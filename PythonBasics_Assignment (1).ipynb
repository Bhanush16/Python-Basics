{
  "nbformat": 4,
  "nbformat_minor": 0,
  "metadata": {
    "colab": {
      "provenance": []
    },
    "kernelspec": {
      "name": "python3",
      "display_name": "Python 3"
    },
    "language_info": {
      "name": "python"
    }
  },
  "cells": [
    {
      "cell_type": "markdown",
      "source": [
        "**Python Basics Questions**"
      ],
      "metadata": {
        "id": "Aw1SgFevsSc2"
      }
    },
    {
      "cell_type": "markdown",
      "source": [
        "1)What is Python, and why is it popular?\n",
        "\n",
        "A)Python is a high-level, interpreted programming language known for its simplicity and readability. It is popular because of its versatile libraries, support for multiple programming paradigms, ease of learning, and wide application in web development, data science, artificial intelligence, and automation."
      ],
      "metadata": {
        "id": "9zddMMBMpMiJ"
      }
    },
    {
      "cell_type": "markdown",
      "source": [
        "2)What is an interpreter in Python?\n",
        "\n",
        "A)An interpreter in Python is a program that executes Python code line-by-line, translating it into machine-readable instructions.\n"
      ],
      "metadata": {
        "id": "lLDP1uRJpMr4"
      }
    },
    {
      "cell_type": "markdown",
      "source": [
        "3)What are pre-defined keywords in Python?\n",
        "\n",
        "A)Pre-defined keywords in Python are reserved words that have specific meanings and purposes, such as if, else, for, while, import, etc. These keywords cannot be used as identifiers or variable names."
      ],
      "metadata": {
        "id": "F3N1NksQpM1p"
      }
    },
    {
      "cell_type": "markdown",
      "source": [
        "4)Can keywords be used as variable names?\n",
        "\n",
        "A)No, keywords cannot be used as variable names because they are reserved for specific functions within the Python language."
      ],
      "metadata": {
        "id": "PbcVUccypNCE"
      }
    },
    {
      "cell_type": "markdown",
      "source": [
        "5)What is mutability in Python?\n",
        "\n",
        "A)Mutability refers to an object's ability to be changed after it is created. For example, lists in Python are mutable, meaning their elements can be altered, added, or removed."
      ],
      "metadata": {
        "id": "VLAku4abpNMj"
      }
    },
    {
      "cell_type": "markdown",
      "source": [
        "6)Why are lists mutable, but tuples are immutable?\n",
        "\n",
        "A)Lists are mutable to allow flexibility in modifying data, making them suitable for dynamic collections. Tuples are immutable to ensure data integrity and faster performance when dealing with fixed collections."
      ],
      "metadata": {
        "id": "1bhg78hjpNWg"
      }
    },
    {
      "cell_type": "markdown",
      "source": [
        "7)What is the difference between “==” and “is” operators in Python?\n",
        "\n",
        "A) == checks for value equality (if two objects have the same data).\n",
        "is checks for identity equality (if two objects refer to the same memory location)."
      ],
      "metadata": {
        "id": "yam8f-jIpNfl"
      }
    },
    {
      "cell_type": "markdown",
      "source": [
        "8)What are logical operators in Python?\n",
        "\n",
        "A)Logical operators are used to perform logical operations. The three main logical operators in Python are:\n",
        "\n",
        "and: Returns True if both conditions are true.\n",
        "or: Returns True if at least one condition is true.\n",
        "not: Negates the truth value of a condition."
      ],
      "metadata": {
        "id": "CMJDJGWtpNo0"
      }
    },
    {
      "cell_type": "markdown",
      "source": [
        "9)What is type casting in Python?\n",
        "\n",
        "A)Type casting is the process of converting a variable from one data type to another. For example, converting a string to an integer using int()."
      ],
      "metadata": {
        "id": "-Q9SGW6VpNyE"
      }
    },
    {
      "cell_type": "markdown",
      "source": [
        "10)What is the difference between implicit and explicit type casting?\n",
        "\n",
        "A)Implicit type casting: Performed automatically by Python when it converts smaller data types to larger ones (e.g., integer to float).\n",
        "Explicit type casting: Performed manually by the programmer using functions like int(), float(), or str()."
      ],
      "metadata": {
        "id": "tm7YYfufpN7H"
      }
    },
    {
      "cell_type": "markdown",
      "source": [
        "11)What is the purpose of conditional statements in Python?\n",
        "\n",
        "A)Conditional statements control the flow of a program by executing code blocks based on specific conditions, using constructs like if, elif, and else."
      ],
      "metadata": {
        "id": "3NySoKs2pOEp"
      }
    },
    {
      "cell_type": "markdown",
      "source": [
        "12)How does the elif statement work?\n",
        "\n",
        "A)The elif statement allows you to check multiple conditions sequentially. If the condition in if is false, Python evaluates the conditions in the elif block(s). It stops checking once a true condition is found."
      ],
      "metadata": {
        "id": "17A9Jtk-pOM8"
      }
    },
    {
      "cell_type": "markdown",
      "source": [
        " 13)What is the difference between for and while loops?\n",
        "\n",
        " A)For loop: Used to iterate over a sequence (e.g., list, string, range) with a predefined number of iterations.\n",
        "While loop: Used when the number of iterations is not known beforehand and depends on a condition."
      ],
      "metadata": {
        "id": "4wi2PupBpOVM"
      }
    },
    {
      "cell_type": "markdown",
      "source": [
        " 14)Describe a scenario where a while loop is more suitable than a for loop?\n",
        "\n",
        " A)A while loop is more suitable when you need to repeat an operation until a specific condition is met, such as reading user input until they provide valid data. For example:"
      ],
      "metadata": {
        "id": "fcsfCZqWpOpZ"
      }
    },
    {
      "cell_type": "markdown",
      "source": [
        "**Practical Questions**"
      ],
      "metadata": {
        "id": "8zrmAEQssARi"
      }
    },
    {
      "cell_type": "code",
      "source": [
        "#Write a Python program to print \"Hello, World!\"\n",
        "print(\"Hello,World!\")"
      ],
      "metadata": {
        "colab": {
          "base_uri": "https://localhost:8080/"
        },
        "id": "lG33Y5Tpr-Os",
        "outputId": "191a1f2d-1e03-4598-fa1c-29945f0e2819"
      },
      "execution_count": 2,
      "outputs": [
        {
          "output_type": "stream",
          "name": "stdout",
          "text": [
            "Hello,World!\n"
          ]
        }
      ]
    },
    {
      "cell_type": "code",
      "source": [
        "#Write a Python program that displays your name and age\n",
        "name=\"B.Bhanush\"\n",
        "age=20\n",
        "print(\"Name:\",name)\n",
        "print(\"Age:\",age)"
      ],
      "metadata": {
        "colab": {
          "base_uri": "https://localhost:8080/"
        },
        "id": "IHtKk060tTU3",
        "outputId": "eb706538-5f9a-4c90-ea9f-d2190a00b145"
      },
      "execution_count": 3,
      "outputs": [
        {
          "output_type": "stream",
          "name": "stdout",
          "text": [
            "Name: B.Bhanush\n",
            "Age: 20\n"
          ]
        }
      ]
    },
    {
      "cell_type": "code",
      "source": [
        "#Write code to print all the pre-defined keywords in Python using the keyword library\n",
        "import keyword\n",
        "print(\"Pre-defined keywords in Python:\")\n",
        "for kw in keyword.kwlist:\n",
        "    print(kw)"
      ],
      "metadata": {
        "colab": {
          "base_uri": "https://localhost:8080/"
        },
        "collapsed": true,
        "id": "UXk0kvwMtTqb",
        "outputId": "d3b508eb-4555-42a8-b8ff-176206b6a5a9"
      },
      "execution_count": 4,
      "outputs": [
        {
          "output_type": "stream",
          "name": "stdout",
          "text": [
            "Pre-defined keywords in Python:\n",
            "False\n",
            "None\n",
            "True\n",
            "and\n",
            "as\n",
            "assert\n",
            "async\n",
            "await\n",
            "break\n",
            "class\n",
            "continue\n",
            "def\n",
            "del\n",
            "elif\n",
            "else\n",
            "except\n",
            "finally\n",
            "for\n",
            "from\n",
            "global\n",
            "if\n",
            "import\n",
            "in\n",
            "is\n",
            "lambda\n",
            "nonlocal\n",
            "not\n",
            "or\n",
            "pass\n",
            "raise\n",
            "return\n",
            "try\n",
            "while\n",
            "with\n",
            "yield\n"
          ]
        }
      ]
    },
    {
      "cell_type": "code",
      "source": [
        "#Write a program that checks if a given word is a Python keyword\n",
        "import keyword\n",
        "word = input(\"Enter a word: \")\n",
        "if keyword.iskeyword(word):\n",
        "    print(f\"{word} is a Python keyword.\")\n",
        "else:\n",
        "    print(f\"{word} is not a Python keyword.\")"
      ],
      "metadata": {
        "colab": {
          "base_uri": "https://localhost:8080/"
        },
        "id": "z2GGSQNBtT15",
        "outputId": "a9b0d86f-1252-44ef-c541-e2e1043e0588"
      },
      "execution_count": 5,
      "outputs": [
        {
          "output_type": "stream",
          "name": "stdout",
          "text": [
            "Enter a word: del\n",
            "del is a Python keyword.\n"
          ]
        }
      ]
    },
    {
      "cell_type": "code",
      "source": [
        "#Create a list and tuple in Python, and demonstrate how attempting to change an element works differently for each\n",
        "List=[1,2,3]\n",
        "Tuple=(1,2,3)\n",
        "print(\"Original List and Tuple-\",List,Tuple)\n",
        "List[0]=10\n",
        "print(\"After attempting to change an element-List and Tuple-\",List)\n",
        "Tuple[0]=10\n",
        "print(\"After attempting to change an element-List and Tuple-\",Tuple)"
      ],
      "metadata": {
        "colab": {
          "base_uri": "https://localhost:8080/",
          "height": 237
        },
        "collapsed": true,
        "id": "26KpZww2tUAX",
        "outputId": "c014c482-2a0a-4616-ac28-8743d4ebe084"
      },
      "execution_count": 10,
      "outputs": [
        {
          "output_type": "stream",
          "name": "stdout",
          "text": [
            "Original List and Tuple- [1, 2, 3] (1, 2, 3)\n",
            "After attempting to change an element-List and Tuple- [10, 2, 3]\n"
          ]
        },
        {
          "output_type": "error",
          "ename": "TypeError",
          "evalue": "'tuple' object does not support item assignment",
          "traceback": [
            "\u001b[0;31m---------------------------------------------------------------------------\u001b[0m",
            "\u001b[0;31mTypeError\u001b[0m                                 Traceback (most recent call last)",
            "\u001b[0;32m<ipython-input-10-eaf0bcdfff4e>\u001b[0m in \u001b[0;36m<cell line: 7>\u001b[0;34m()\u001b[0m\n\u001b[1;32m      5\u001b[0m \u001b[0mList\u001b[0m\u001b[0;34m[\u001b[0m\u001b[0;36m0\u001b[0m\u001b[0;34m]\u001b[0m\u001b[0;34m=\u001b[0m\u001b[0;36m10\u001b[0m\u001b[0;34m\u001b[0m\u001b[0;34m\u001b[0m\u001b[0m\n\u001b[1;32m      6\u001b[0m \u001b[0mprint\u001b[0m\u001b[0;34m(\u001b[0m\u001b[0;34m\"After attempting to change an element-List and Tuple-\"\u001b[0m\u001b[0;34m,\u001b[0m\u001b[0mList\u001b[0m\u001b[0;34m)\u001b[0m\u001b[0;34m\u001b[0m\u001b[0;34m\u001b[0m\u001b[0m\n\u001b[0;32m----> 7\u001b[0;31m \u001b[0mTuple\u001b[0m\u001b[0;34m[\u001b[0m\u001b[0;36m0\u001b[0m\u001b[0;34m]\u001b[0m\u001b[0;34m=\u001b[0m\u001b[0;36m10\u001b[0m\u001b[0;34m\u001b[0m\u001b[0;34m\u001b[0m\u001b[0m\n\u001b[0m\u001b[1;32m      8\u001b[0m \u001b[0mprint\u001b[0m\u001b[0;34m(\u001b[0m\u001b[0;34m\"After attempting to change an element-List and Tuple-\"\u001b[0m\u001b[0;34m,\u001b[0m\u001b[0mTuple\u001b[0m\u001b[0;34m)\u001b[0m\u001b[0;34m\u001b[0m\u001b[0;34m\u001b[0m\u001b[0m\n",
            "\u001b[0;31mTypeError\u001b[0m: 'tuple' object does not support item assignment"
          ]
        }
      ]
    },
    {
      "cell_type": "code",
      "source": [
        "#Write a function to demonstrate the behavior of mutable and immutable arguments\n",
        "def demonstrate_mutable_and_immutable(mutable_arg, immutable_arg):\n",
        "    mutable_arg.append(4)\n",
        "    print(\"Inside function - Mutable argument:\", mutable_arg)\n",
        "    immutable_arg += 10\n",
        "    print(\"Inside function - Immutable argument:\", immutable_arg)\n",
        "\n",
        "my_list = [1, 2, 3]\n",
        "my_number = 5\n",
        "\n",
        "print(\"Before function call - Mutable argument:\", my_list)\n",
        "print(\"Before function call - Immutable argument:\", my_number)\n",
        "demonstrate_mutable_and_immutable(my_list, my_number)\n",
        "\n",
        "print(\"\\nAfter function call - Mutable argument:\", my_list)\n",
        "print(\"After function call - Immutable argument:\", my_number)\n"
      ],
      "metadata": {
        "colab": {
          "base_uri": "https://localhost:8080/"
        },
        "id": "7sevAVaFtUKF",
        "outputId": "4e239126-12b3-4d1d-9153-9435b52b680d"
      },
      "execution_count": 9,
      "outputs": [
        {
          "output_type": "stream",
          "name": "stdout",
          "text": [
            "Before function call - Mutable argument: [1, 2, 3]\n",
            "Before function call - Immutable argument: 5\n",
            "Inside function - Mutable argument: [1, 2, 3, 4]\n",
            "Inside function - Immutable argument: 15\n",
            "\n",
            "After function call - Mutable argument: [1, 2, 3, 4]\n",
            "After function call - Immutable argument: 5\n"
          ]
        }
      ]
    },
    {
      "cell_type": "code",
      "source": [
        "#Write a function to demonstrate the behavior of mutable and immutable arguments\n",
        "#Write a function to demonstrate the behavior of mutable and immutable arguments\n",
        "def demonstrate_mutable_and_immutable(mutable_arg, immutable_arg):\n",
        "    mutable_arg.append(4)\n",
        "    print(\"Inside function - Mutable argument:\", mutable_arg)\n",
        "    immutable_arg += 10\n",
        "    print(\"Inside function - Immutable argument:\", immutable_arg)\n",
        "\n",
        "my_list = [1, 2, 3]\n",
        "my_number = 5\n",
        "\n",
        "print(\"Before function call - Mutable argument:\", my_list)\n",
        "print(\"Before function call - Immutable argument:\", my_number)\n",
        "demonstrate_mutable_and_immutable(my_list, my_number)\n",
        "\n",
        "print(\"\\nAfter function call - Mutable argument:\", my_list)\n",
        "print(\"After function call - Immutable argument:\", my_number)\n"
      ],
      "metadata": {
        "colab": {
          "base_uri": "https://localhost:8080/"
        },
        "id": "pSbs6edFtUS0",
        "outputId": "d28f7c0a-fc9a-4386-d799-20c605689f15"
      },
      "execution_count": 11,
      "outputs": [
        {
          "output_type": "stream",
          "name": "stdout",
          "text": [
            "Before function call - Mutable argument: [1, 2, 3]\n",
            "Before function call - Immutable argument: 5\n",
            "Inside function - Mutable argument: [1, 2, 3, 4]\n",
            "Inside function - Immutable argument: 15\n",
            "\n",
            "After function call - Mutable argument: [1, 2, 3, 4]\n",
            "After function call - Immutable argument: 5\n"
          ]
        }
      ]
    },
    {
      "cell_type": "code",
      "source": [
        "#Write a program to demonstrate the use of logical operators\n",
        "a = True\n",
        "b = False\n",
        "#result= a and b\n",
        "print(\"Logical AND-\",a and b)\n",
        "print(\"Logical OR-\",a or b)\n",
        "print(\"Logical NOT-\",not a)"
      ],
      "metadata": {
        "colab": {
          "base_uri": "https://localhost:8080/"
        },
        "id": "4TiEMuVQtUbF",
        "outputId": "c72dbbdc-d91b-48aa-93f5-37dfc47edd55"
      },
      "execution_count": 14,
      "outputs": [
        {
          "output_type": "stream",
          "name": "stdout",
          "text": [
            "Logical AND- False\n",
            "Logical OR- True\n",
            "Logical NOT- False\n"
          ]
        }
      ]
    },
    {
      "cell_type": "code",
      "source": [
        "#Write a Python program to convert user input from string to integer, float, and boolean types\n",
        "string=\"Python\"\n",
        "integer_value = int(string)\n",
        "float_value = float(string)\n",
        "boolean_value = bool(string)"
      ],
      "metadata": {
        "colab": {
          "base_uri": "https://localhost:8080/",
          "height": 219
        },
        "id": "lgyTCDM3tUjI",
        "outputId": "e8041ed0-7910-4fee-ca47-a5da7652e4ed"
      },
      "execution_count": 15,
      "outputs": [
        {
          "output_type": "error",
          "ename": "ValueError",
          "evalue": "invalid literal for int() with base 10: 'Python'",
          "traceback": [
            "\u001b[0;31m---------------------------------------------------------------------------\u001b[0m",
            "\u001b[0;31mValueError\u001b[0m                                Traceback (most recent call last)",
            "\u001b[0;32m<ipython-input-15-b1cbb26b2ca1>\u001b[0m in \u001b[0;36m<cell line: 3>\u001b[0;34m()\u001b[0m\n\u001b[1;32m      1\u001b[0m \u001b[0;31m#Write a Python program to convert user input from string to integer, float, and boolean types\u001b[0m\u001b[0;34m\u001b[0m\u001b[0;34m\u001b[0m\u001b[0m\n\u001b[1;32m      2\u001b[0m \u001b[0mstring\u001b[0m\u001b[0;34m=\u001b[0m\u001b[0;34m\"Python\"\u001b[0m\u001b[0;34m\u001b[0m\u001b[0;34m\u001b[0m\u001b[0m\n\u001b[0;32m----> 3\u001b[0;31m \u001b[0minteger_value\u001b[0m \u001b[0;34m=\u001b[0m \u001b[0mint\u001b[0m\u001b[0;34m(\u001b[0m\u001b[0mstring\u001b[0m\u001b[0;34m)\u001b[0m\u001b[0;34m\u001b[0m\u001b[0;34m\u001b[0m\u001b[0m\n\u001b[0m\u001b[1;32m      4\u001b[0m \u001b[0mfloat_value\u001b[0m \u001b[0;34m=\u001b[0m \u001b[0mfloat\u001b[0m\u001b[0;34m(\u001b[0m\u001b[0mstring\u001b[0m\u001b[0;34m)\u001b[0m\u001b[0;34m\u001b[0m\u001b[0;34m\u001b[0m\u001b[0m\n\u001b[1;32m      5\u001b[0m \u001b[0mboolean_value\u001b[0m \u001b[0;34m=\u001b[0m \u001b[0mbool\u001b[0m\u001b[0;34m(\u001b[0m\u001b[0mstring\u001b[0m\u001b[0;34m)\u001b[0m\u001b[0;34m\u001b[0m\u001b[0;34m\u001b[0m\u001b[0m\n",
            "\u001b[0;31mValueError\u001b[0m: invalid literal for int() with base 10: 'Python'"
          ]
        }
      ]
    },
    {
      "cell_type": "code",
      "source": [
        "#Write code to demonstrate type casting with list elements\n",
        "list_str = [\"1\", \"2\", \"3\"]\n",
        "list_int = [int(x) for x in list_str]\n",
        "list_float = [float(x) for x in list_str]\n",
        "print(\"string-\",list_str,\"Integer-\",list_int,\"Float-\",list_float)"
      ],
      "metadata": {
        "colab": {
          "base_uri": "https://localhost:8080/"
        },
        "id": "HQJs4nXNtUqa",
        "outputId": "bf8a7453-8b07-4dba-8cfc-192fecfd8f0c"
      },
      "execution_count": 19,
      "outputs": [
        {
          "output_type": "stream",
          "name": "stdout",
          "text": [
            "string- ['1', '2', '3'] Integer- [1, 2, 3] Float- [1.0, 2.0, 3.0]\n"
          ]
        }
      ]
    },
    {
      "cell_type": "code",
      "source": [
        "#Write a program that checks if a number is positive, negative, or zero\n",
        "number =[5,0,-9]\n",
        "for num in number:\n",
        "    if num > 0:\n",
        "        print(f\"{num} is positive.\")\n",
        "    elif num < 0:\n",
        "        print(f\"{num} is negative.\")\n",
        "    else:\n",
        "        print(f\"{num} is zero.\")\n"
      ],
      "metadata": {
        "colab": {
          "base_uri": "https://localhost:8080/"
        },
        "id": "e3UPWsFKtUyZ",
        "outputId": "0576d53b-a906-4532-927d-a10bf83a6d63"
      },
      "execution_count": 28,
      "outputs": [
        {
          "output_type": "stream",
          "name": "stdout",
          "text": [
            "5 is positive.\n",
            "0 is zero.\n",
            "-9 is negative.\n"
          ]
        }
      ]
    },
    {
      "cell_type": "code",
      "source": [
        "#Write a for loop to print numbers from 1 to 10\n",
        "for i in range(1, 11):\n",
        "    print(i)"
      ],
      "metadata": {
        "colab": {
          "base_uri": "https://localhost:8080/"
        },
        "id": "sSpkQqFStU64",
        "outputId": "9155678b-f69f-40c4-f4c8-444b4bd9dc07"
      },
      "execution_count": 22,
      "outputs": [
        {
          "output_type": "stream",
          "name": "stdout",
          "text": [
            "1\n",
            "2\n",
            "3\n",
            "4\n",
            "5\n",
            "6\n",
            "7\n",
            "8\n",
            "9\n",
            "10\n"
          ]
        }
      ]
    },
    {
      "cell_type": "code",
      "source": [
        "#Write a Python program to find the sum of all even numbers between 1 and 50\n",
        "sum_even = 0\n",
        "for num in range(2, 51, 2):\n",
        "    sum_even += num\n",
        "print(\"Sum of even numbers between 1 and 50:\", sum_even)"
      ],
      "metadata": {
        "colab": {
          "base_uri": "https://localhost:8080/"
        },
        "id": "FKgu1ULntVC9",
        "outputId": "bba50645-647c-4d0f-f1e5-f924b07b0b91"
      },
      "execution_count": 24,
      "outputs": [
        {
          "output_type": "stream",
          "name": "stdout",
          "text": [
            "Sum of even numbers between 1 and 50: 650\n"
          ]
        }
      ]
    },
    {
      "cell_type": "code",
      "source": [
        "#Write a program to reverse a string using a while loop\n",
        "string = \"Python\"\n",
        "reversed_string = \"\"\n",
        "index = len(string) - 1\n",
        "while index >= 0:\n",
        "    reversed_string += string[index]\n",
        "    index -= 1\n",
        "print(\"Reversed string:\", reversed_string)"
      ],
      "metadata": {
        "colab": {
          "base_uri": "https://localhost:8080/"
        },
        "id": "iscpHBMdtVR1",
        "outputId": "d212f0fb-8950-43f6-c183-c95ae38a0cea"
      },
      "execution_count": 27,
      "outputs": [
        {
          "output_type": "stream",
          "name": "stdout",
          "text": [
            "Reversed string: nohtyP\n"
          ]
        }
      ]
    },
    {
      "cell_type": "code",
      "source": [
        "# Write a Python program to calculate the factorial of a number provided by the user using a while loop\n",
        "number = int(input(\"Enter a number: \"))\n",
        "factorial = 1\n",
        "current = 1\n",
        "while current <= number:\n",
        "    factorial *= current\n",
        "    current += 1\n",
        "print(f\"The factorial of {number} is {factorial}\")"
      ],
      "metadata": {
        "colab": {
          "base_uri": "https://localhost:8080/"
        },
        "id": "1qcri6F9tVZ1",
        "outputId": "72876b95-5fca-47cf-bd60-6dd2f9b99703"
      },
      "execution_count": 26,
      "outputs": [
        {
          "output_type": "stream",
          "name": "stdout",
          "text": [
            "Enter a number: 9\n",
            "The factorial of 9 is 362880\n"
          ]
        }
      ]
    }
  ]
}